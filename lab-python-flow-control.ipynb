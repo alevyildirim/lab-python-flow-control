{
 "cells": [
  {
   "cell_type": "markdown",
   "id": "d3bfc191-8885-42ee-b0a0-bbab867c6f9f",
   "metadata": {
    "tags": []
   },
   "source": [
    "# Lab | Flow Control"
   ]
  },
  {
   "cell_type": "markdown",
   "id": "3851fcd1-cf98-4653-9c89-e003b7ec9400",
   "metadata": {},
   "source": [
    "## Exercise: Managing Customer Orders Optimized\n",
    "\n",
    "In the last lab, you were starting an online store that sells various products. To ensure smooth operations, you developed a program that manages customer orders and inventory.\n",
    "\n",
    "You did so without using flow control. Let's go a step further and improve this code.\n",
    "\n",
    "Follow the steps below to complete the exercise:\n",
    "\n",
    "1. Look at your code from the lab data structures, and improve repeated code with loops.\n",
    "\n",
    "2. Instead of asking the user to input the name of three products that a customer wants to order, do the following:\n",
    "    \n",
    "    a. Prompt the user to enter the name of a product that a customer wants to order.\n",
    "    \n",
    "    b. Add the product name to the \"customer_orders\" set.\n",
    "    \n",
    "    c. Ask the user if they want to add another product (yes/no).\n",
    "    \n",
    "    d. Continue the loop until the user does not want to add another product.\n",
    "\n",
    "3. Instead of updating the inventory by subtracting 1 from the quantity of each product, only do it for  the products that were ordered (those in \"customer_orders\")."
   ]
  },
  {
   "cell_type": "code",
   "execution_count": 5,
   "id": "698f323f",
   "metadata": {},
   "outputs": [
    {
     "name": "stdout",
     "output_type": "stream",
     "text": [
      "Enter the quantity of t-shirt: 49\n",
      "Enter the quantity of mug: 38\n",
      "Enter the quantity of hat: 22\n",
      "Enter the quantity of book: 44\n",
      "Enter the quantity of keychain: 59\n",
      "Enter the name of a product that the customer wants to order: 23\n",
      "Invalid product name. Please choose from the available products.\n",
      "Do you want to add another product? (yes/no): yes\n",
      "Enter the name of a product that the customer wants to order: banana\n",
      "Invalid product name. Please choose from the available products.\n",
      "Do you want to add another product? (yes/no): yes\n",
      "Enter the name of a product that the customer wants to order: t-shirt\n",
      "Do you want to add another product? (yes/no): no\n",
      "Products in customer's order: {'t-shirt'}\n",
      "\n",
      "Order Statistics:\n",
      "Total Products Ordered: 1\n",
      "Percentage of Products Ordered: 20.00%\n",
      "\n",
      "Updated Inventory:\n",
      "t-shirt: 48\n",
      "mug: 38\n",
      "hat: 22\n",
      "book: 44\n",
      "keychain: 59\n"
     ]
    }
   ],
   "source": [
    "products = [\"t-shirt\", \"mug\", \"hat\", \"book\", \"keychain\"]\n",
    "\n",
    "inventory = {}\n",
    "\n",
    "for product in products:\n",
    "    quantity = int(input(f\"Enter the quantity of {product}: \"))\n",
    "    inventory[product] = quantity\n",
    "\n",
    "customer_orders = set()\n",
    "\n",
    "while True:\n",
    "    product = input(\"Enter the name of a product that the customer wants to order: \")\n",
    "    if product in products:\n",
    "        customer_orders.add(product)\n",
    "    else:\n",
    "        print(\"Invalid product name. Please choose from the available products.\")\n",
    "    add_another = input(\"Do you want to add another product? (yes/no): \")\n",
    "    if add_another.lower() != 'yes':\n",
    "        break\n",
    "\n",
    "print(\"Products in customer's order:\", customer_orders)\n",
    "\n",
    "total_products_ordered = len(customer_orders)\n",
    "percentage_ordered = (total_products_ordered / len(products)) * 100\n",
    "order_status = (total_products_ordered, percentage_ordered)\n",
    "\n",
    "print(\"\\nOrder Statistics:\")\n",
    "print(\"Total Products Ordered:\", order_status[0])\n",
    "print(\"Percentage of Products Ordered: {:.2f}%\".format(order_status[1]))\n",
    "\n",
    "for product in customer_orders:\n",
    "    inventory[product] -= 1\n",
    "\n",
    "print(\"\\nUpdated Inventory:\")\n",
    "for product, quantity in inventory.items():\n",
    "    print(product + \":\", quantity)\n"
   ]
  }
 ],
 "metadata": {
  "kernelspec": {
   "display_name": "Python 3 (ipykernel)",
   "language": "python",
   "name": "python3"
  },
  "language_info": {
   "codemirror_mode": {
    "name": "ipython",
    "version": 3
   },
   "file_extension": ".py",
   "mimetype": "text/x-python",
   "name": "python",
   "nbconvert_exporter": "python",
   "pygments_lexer": "ipython3",
   "version": "3.11.5"
  }
 },
 "nbformat": 4,
 "nbformat_minor": 5
}
